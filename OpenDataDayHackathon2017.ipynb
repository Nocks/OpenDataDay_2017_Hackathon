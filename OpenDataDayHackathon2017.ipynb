{
 "cells": [
  {
   "cell_type": "markdown",
   "metadata": {},
   "source": [
    "# 2017 Open Data Day Hackathon at Mobile Web Ghana"
   ]
  },
  {
   "cell_type": "markdown",
   "metadata": {},
   "source": [
    "### Open Tender Contracts Awarded by Ministry of Health "
   ]
  },
  {
   "cell_type": "markdown",
   "metadata": {},
   "source": [
    "After investigating the dataset for this small project, I realised that the data wasn't scraped well. The dataset has many empty rows. This limited the scope of the project as it cannot answer all questions I have concerning the dataset.\n",
    "\n",
    "However, for demonstration of data visualisation, I went ahead to work with the dataset."
   ]
  },
  {
   "cell_type": "code",
   "execution_count": 1,
   "metadata": {
    "collapsed": true
   },
   "outputs": [],
   "source": [
    "import csv\n",
    "# open and read in the file\n",
    "f = open(\"Health_Sector_Contracts.csv\", 'r')\n",
    "raw_data = list(csv.reader(f))\n",
    "raw_data = raw_data[1:]"
   ]
  },
  {
   "cell_type": "markdown",
   "metadata": {},
   "source": [
    "### A snapshot of the dataset"
   ]
  },
  {
   "cell_type": "code",
   "execution_count": 4,
   "metadata": {
    "collapsed": false,
    "scrolled": false
   },
   "outputs": [
    {
     "data": {
      "text/plain": [
       "[['PROCUREMENT OF NON-MEDICINE CONSUMABLES',\n",
       "  'Regional Health Directorate - Ashanti Region/Ministry of Health',\n",
       "  'SIR JOE ENTERPRISE',\n",
       "  '9/30/2016',\n",
       "  '12/30/2016',\n",
       "  'GH¢475,050.00',\n",
       "  '',\n",
       "  '',\n",
       "  '',\n",
       "  '',\n",
       "  '',\n",
       "  '',\n",
       "  '',\n",
       "  '',\n",
       "  '',\n",
       "  '',\n",
       "  '',\n",
       "  '',\n",
       "  '',\n",
       "  '',\n",
       "  '',\n",
       "  '',\n",
       "  '',\n",
       "  '',\n",
       "  ''],\n",
       " ['Procurement of Non-Essential Medicines - Various',\n",
       "  'Regional Health Directorate - Ashanti Region/Ministry of Health',\n",
       "  'BELSHAW LTD',\n",
       "  '9/30/2016',\n",
       "  '12/30/2016',\n",
       "  'GH¢349,210.00',\n",
       "  '',\n",
       "  '',\n",
       "  '',\n",
       "  '',\n",
       "  '',\n",
       "  '',\n",
       "  '',\n",
       "  '',\n",
       "  '',\n",
       "  '',\n",
       "  '',\n",
       "  '',\n",
       "  '',\n",
       "  '',\n",
       "  '',\n",
       "  '',\n",
       "  '',\n",
       "  '',\n",
       "  ''],\n",
       " ['PROCUREMENT OF NON-MEDICINE CONSUMABLES',\n",
       "  'Regional Health Directorate - Ashanti Region/Ministry of Health',\n",
       "  'STANBRAVO COMPANY LTD',\n",
       "  '9/30/2016',\n",
       "  '12/30/2016',\n",
       "  'GH¢47,000.00',\n",
       "  '',\n",
       "  '',\n",
       "  '',\n",
       "  '',\n",
       "  '',\n",
       "  '',\n",
       "  '',\n",
       "  '',\n",
       "  '',\n",
       "  '',\n",
       "  '',\n",
       "  '',\n",
       "  '',\n",
       "  '',\n",
       "  '',\n",
       "  '',\n",
       "  '',\n",
       "  '',\n",
       "  '']]"
      ]
     },
     "execution_count": 4,
     "metadata": {},
     "output_type": "execute_result"
    }
   ],
   "source": [
    "raw_data[:3]"
   ]
  },
  {
   "cell_type": "markdown",
   "metadata": {},
   "source": [
    "### Empty fields need to be taken out of the dataset to make it clean"
   ]
  },
  {
   "cell_type": "code",
   "execution_count": 5,
   "metadata": {
    "collapsed": true
   },
   "outputs": [],
   "source": [
    "# data in file not clean make a new object for cleaned data\n",
    "contracts = []\n",
    "\n",
    "for data in raw_data:\n",
    "    contracts.append((data[:6]))"
   ]
  },
  {
   "cell_type": "markdown",
   "metadata": {},
   "source": [
    "### After empty fields taken out"
   ]
  },
  {
   "cell_type": "code",
   "execution_count": 6,
   "metadata": {
    "collapsed": false
   },
   "outputs": [
    {
     "data": {
      "text/plain": [
       "[['PROCUREMENT OF NON-MEDICINE CONSUMABLES',\n",
       "  'Regional Health Directorate - Ashanti Region/Ministry of Health',\n",
       "  'SIR JOE ENTERPRISE',\n",
       "  '9/30/2016',\n",
       "  '12/30/2016',\n",
       "  'GH¢475,050.00'],\n",
       " ['Procurement of Non-Essential Medicines - Various',\n",
       "  'Regional Health Directorate - Ashanti Region/Ministry of Health',\n",
       "  'BELSHAW LTD',\n",
       "  '9/30/2016',\n",
       "  '12/30/2016',\n",
       "  'GH¢349,210.00'],\n",
       " ['PROCUREMENT OF NON-MEDICINE CONSUMABLES',\n",
       "  'Regional Health Directorate - Ashanti Region/Ministry of Health',\n",
       "  'STANBRAVO COMPANY LTD',\n",
       "  '9/30/2016',\n",
       "  '12/30/2016',\n",
       "  'GH¢47,000.00']]"
      ]
     },
     "execution_count": 6,
     "metadata": {},
     "output_type": "execute_result"
    }
   ],
   "source": [
    "contracts[:3]"
   ]
  },
  {
   "cell_type": "code",
   "execution_count": 7,
   "metadata": {
    "collapsed": true
   },
   "outputs": [],
   "source": [
    "import pandas as pd"
   ]
  },
  {
   "cell_type": "code",
   "execution_count": 8,
   "metadata": {
    "collapsed": true
   },
   "outputs": [],
   "source": [
    "fields = ['Tender Description', 'Awarding Agency/Ministry', 'Contract Awarded To', 'Contract Signed on', 'Estimated Contract Completion Date', 'Contract Award Price']\n",
    "contracts = pd.DataFrame(contracts, columns=fields)"
   ]
  },
  {
   "cell_type": "markdown",
   "metadata": {},
   "source": [
    "### The first 5 rows of the dataset"
   ]
  },
  {
   "cell_type": "code",
   "execution_count": 9,
   "metadata": {
    "collapsed": false
   },
   "outputs": [
    {
     "data": {
      "text/html": [
       "<div>\n",
       "<table border=\"1\" class=\"dataframe\">\n",
       "  <thead>\n",
       "    <tr style=\"text-align: right;\">\n",
       "      <th></th>\n",
       "      <th>Tender Description</th>\n",
       "      <th>Awarding Agency/Ministry</th>\n",
       "      <th>Contract Awarded To</th>\n",
       "      <th>Contract Signed on</th>\n",
       "      <th>Estimated Contract Completion Date</th>\n",
       "      <th>Contract Award Price</th>\n",
       "    </tr>\n",
       "  </thead>\n",
       "  <tbody>\n",
       "    <tr>\n",
       "      <th>0</th>\n",
       "      <td>PROCUREMENT OF NON-MEDICINE CONSUMABLES</td>\n",
       "      <td>Regional Health Directorate - Ashanti Region/M...</td>\n",
       "      <td>SIR JOE ENTERPRISE</td>\n",
       "      <td>9/30/2016</td>\n",
       "      <td>12/30/2016</td>\n",
       "      <td>GH¢475,050.00</td>\n",
       "    </tr>\n",
       "    <tr>\n",
       "      <th>1</th>\n",
       "      <td>Procurement of Non-Essential Medicines - Various</td>\n",
       "      <td>Regional Health Directorate - Ashanti Region/M...</td>\n",
       "      <td>BELSHAW LTD</td>\n",
       "      <td>9/30/2016</td>\n",
       "      <td>12/30/2016</td>\n",
       "      <td>GH¢349,210.00</td>\n",
       "    </tr>\n",
       "    <tr>\n",
       "      <th>2</th>\n",
       "      <td>PROCUREMENT OF NON-MEDICINE CONSUMABLES</td>\n",
       "      <td>Regional Health Directorate - Ashanti Region/M...</td>\n",
       "      <td>STANBRAVO COMPANY LTD</td>\n",
       "      <td>9/30/2016</td>\n",
       "      <td>12/30/2016</td>\n",
       "      <td>GH¢47,000.00</td>\n",
       "    </tr>\n",
       "    <tr>\n",
       "      <th>3</th>\n",
       "      <td>Procurement of Non-Essential Medicines - Various</td>\n",
       "      <td>Regional Health Directorate - Ashanti Region/M...</td>\n",
       "      <td>ALPHA INNOVATIONS</td>\n",
       "      <td>9/30/2016</td>\n",
       "      <td>12/30/2016</td>\n",
       "      <td>GH¢758,000.00\\n</td>\n",
       "    </tr>\n",
       "    <tr>\n",
       "      <th>4</th>\n",
       "      <td>PROCUREMENT OF NON-MEDICINE CONSUMABLES</td>\n",
       "      <td>Regional Health Directorate - Ashanti Region/M...</td>\n",
       "      <td>INVESTREADE INTERNATIONAL COMPANY LTD</td>\n",
       "      <td>9/30/2016</td>\n",
       "      <td>12/30/2016</td>\n",
       "      <td>GH¢1,552,100.00</td>\n",
       "    </tr>\n",
       "  </tbody>\n",
       "</table>\n",
       "</div>"
      ],
      "text/plain": [
       "                                 Tender Description  \\\n",
       "0           PROCUREMENT OF NON-MEDICINE CONSUMABLES   \n",
       "1  Procurement of Non-Essential Medicines - Various   \n",
       "2           PROCUREMENT OF NON-MEDICINE CONSUMABLES   \n",
       "3  Procurement of Non-Essential Medicines - Various   \n",
       "4           PROCUREMENT OF NON-MEDICINE CONSUMABLES   \n",
       "\n",
       "                            Awarding Agency/Ministry  \\\n",
       "0  Regional Health Directorate - Ashanti Region/M...   \n",
       "1  Regional Health Directorate - Ashanti Region/M...   \n",
       "2  Regional Health Directorate - Ashanti Region/M...   \n",
       "3  Regional Health Directorate - Ashanti Region/M...   \n",
       "4  Regional Health Directorate - Ashanti Region/M...   \n",
       "\n",
       "                     Contract Awarded To Contract Signed on  \\\n",
       "0                     SIR JOE ENTERPRISE          9/30/2016   \n",
       "1                            BELSHAW LTD          9/30/2016   \n",
       "2                  STANBRAVO COMPANY LTD          9/30/2016   \n",
       "3                      ALPHA INNOVATIONS          9/30/2016   \n",
       "4  INVESTREADE INTERNATIONAL COMPANY LTD          9/30/2016   \n",
       "\n",
       "  Estimated Contract Completion Date Contract Award Price  \n",
       "0                         12/30/2016        GH¢475,050.00  \n",
       "1                         12/30/2016        GH¢349,210.00  \n",
       "2                         12/30/2016         GH¢47,000.00  \n",
       "3                         12/30/2016     GH¢758,000.00\\n   \n",
       "4                         12/30/2016      GH¢1,552,100.00  "
      ]
     },
     "execution_count": 9,
     "metadata": {},
     "output_type": "execute_result"
    }
   ],
   "source": [
    "contracts.head()"
   ]
  },
  {
   "cell_type": "markdown",
   "metadata": {},
   "source": [
    "### Further clean up"
   ]
  },
  {
   "cell_type": "markdown",
   "metadata": {},
   "source": [
    "I will work with the amount that was involved in each contract. Hence, the amount must be of type that will make doing math with it possible. To begin with, I would have to strip of all the \"GH¢\" that precedes the amount in each awarded contact."
   ]
  },
  {
   "cell_type": "code",
   "execution_count": 10,
   "metadata": {
    "collapsed": true
   },
   "outputs": [],
   "source": [
    "contracts['Contract Award Price'] = contracts['Contract Award Price'].str.replace(\"GH¢\", \"\").str.replace(\",\", \"\").str.replace(\"\\n\", \"\").str.rstrip()"
   ]
  },
  {
   "cell_type": "code",
   "execution_count": 11,
   "metadata": {
    "collapsed": true
   },
   "outputs": [],
   "source": [
    "pd.options.display.float_format = '{:20,.2f}'.format"
   ]
  },
  {
   "cell_type": "code",
   "execution_count": 12,
   "metadata": {
    "collapsed": true
   },
   "outputs": [],
   "source": [
    "contracts['Contract Award Price'] = pd.to_numeric(contracts['Contract Award Price'])"
   ]
  },
  {
   "cell_type": "code",
   "execution_count": 13,
   "metadata": {
    "collapsed": false
   },
   "outputs": [
    {
     "data": {
      "text/html": [
       "<div>\n",
       "<table border=\"1\" class=\"dataframe\">\n",
       "  <thead>\n",
       "    <tr style=\"text-align: right;\">\n",
       "      <th></th>\n",
       "      <th>Tender Description</th>\n",
       "      <th>Awarding Agency/Ministry</th>\n",
       "      <th>Contract Awarded To</th>\n",
       "      <th>Contract Signed on</th>\n",
       "      <th>Estimated Contract Completion Date</th>\n",
       "      <th>Contract Award Price</th>\n",
       "    </tr>\n",
       "  </thead>\n",
       "  <tbody>\n",
       "    <tr>\n",
       "      <th>0</th>\n",
       "      <td>PROCUREMENT OF NON-MEDICINE CONSUMABLES</td>\n",
       "      <td>Regional Health Directorate - Ashanti Region/M...</td>\n",
       "      <td>SIR JOE ENTERPRISE</td>\n",
       "      <td>9/30/2016</td>\n",
       "      <td>12/30/2016</td>\n",
       "      <td>475,050.00</td>\n",
       "    </tr>\n",
       "    <tr>\n",
       "      <th>1</th>\n",
       "      <td>Procurement of Non-Essential Medicines - Various</td>\n",
       "      <td>Regional Health Directorate - Ashanti Region/M...</td>\n",
       "      <td>BELSHAW LTD</td>\n",
       "      <td>9/30/2016</td>\n",
       "      <td>12/30/2016</td>\n",
       "      <td>349,210.00</td>\n",
       "    </tr>\n",
       "    <tr>\n",
       "      <th>2</th>\n",
       "      <td>PROCUREMENT OF NON-MEDICINE CONSUMABLES</td>\n",
       "      <td>Regional Health Directorate - Ashanti Region/M...</td>\n",
       "      <td>STANBRAVO COMPANY LTD</td>\n",
       "      <td>9/30/2016</td>\n",
       "      <td>12/30/2016</td>\n",
       "      <td>47,000.00</td>\n",
       "    </tr>\n",
       "    <tr>\n",
       "      <th>3</th>\n",
       "      <td>Procurement of Non-Essential Medicines - Various</td>\n",
       "      <td>Regional Health Directorate - Ashanti Region/M...</td>\n",
       "      <td>ALPHA INNOVATIONS</td>\n",
       "      <td>9/30/2016</td>\n",
       "      <td>12/30/2016</td>\n",
       "      <td>758,000.00</td>\n",
       "    </tr>\n",
       "    <tr>\n",
       "      <th>4</th>\n",
       "      <td>PROCUREMENT OF NON-MEDICINE CONSUMABLES</td>\n",
       "      <td>Regional Health Directorate - Ashanti Region/M...</td>\n",
       "      <td>INVESTREADE INTERNATIONAL COMPANY LTD</td>\n",
       "      <td>9/30/2016</td>\n",
       "      <td>12/30/2016</td>\n",
       "      <td>1,552,100.00</td>\n",
       "    </tr>\n",
       "  </tbody>\n",
       "</table>\n",
       "</div>"
      ],
      "text/plain": [
       "                                 Tender Description  \\\n",
       "0           PROCUREMENT OF NON-MEDICINE CONSUMABLES   \n",
       "1  Procurement of Non-Essential Medicines - Various   \n",
       "2           PROCUREMENT OF NON-MEDICINE CONSUMABLES   \n",
       "3  Procurement of Non-Essential Medicines - Various   \n",
       "4           PROCUREMENT OF NON-MEDICINE CONSUMABLES   \n",
       "\n",
       "                            Awarding Agency/Ministry  \\\n",
       "0  Regional Health Directorate - Ashanti Region/M...   \n",
       "1  Regional Health Directorate - Ashanti Region/M...   \n",
       "2  Regional Health Directorate - Ashanti Region/M...   \n",
       "3  Regional Health Directorate - Ashanti Region/M...   \n",
       "4  Regional Health Directorate - Ashanti Region/M...   \n",
       "\n",
       "                     Contract Awarded To Contract Signed on  \\\n",
       "0                     SIR JOE ENTERPRISE          9/30/2016   \n",
       "1                            BELSHAW LTD          9/30/2016   \n",
       "2                  STANBRAVO COMPANY LTD          9/30/2016   \n",
       "3                      ALPHA INNOVATIONS          9/30/2016   \n",
       "4  INVESTREADE INTERNATIONAL COMPANY LTD          9/30/2016   \n",
       "\n",
       "  Estimated Contract Completion Date  Contract Award Price  \n",
       "0                         12/30/2016            475,050.00  \n",
       "1                         12/30/2016            349,210.00  \n",
       "2                         12/30/2016             47,000.00  \n",
       "3                         12/30/2016            758,000.00  \n",
       "4                         12/30/2016          1,552,100.00  "
      ]
     },
     "execution_count": 13,
     "metadata": {},
     "output_type": "execute_result"
    }
   ],
   "source": [
    "contracts.head()"
   ]
  },
  {
   "cell_type": "markdown",
   "metadata": {},
   "source": [
    "### Inconsistent company name in \"Contract Awarded To\" column."
   ]
  },
  {
   "cell_type": "code",
   "execution_count": 14,
   "metadata": {
    "collapsed": false
   },
   "outputs": [
    {
     "data": {
      "text/html": [
       "<div>\n",
       "<table border=\"1\" class=\"dataframe\">\n",
       "  <thead>\n",
       "    <tr style=\"text-align: right;\">\n",
       "      <th></th>\n",
       "      <th>Tender Description</th>\n",
       "      <th>Awarding Agency/Ministry</th>\n",
       "      <th>Contract Awarded To</th>\n",
       "      <th>Contract Signed on</th>\n",
       "      <th>Estimated Contract Completion Date</th>\n",
       "      <th>Contract Award Price</th>\n",
       "    </tr>\n",
       "  </thead>\n",
       "  <tbody>\n",
       "    <tr>\n",
       "      <th>15</th>\n",
       "      <td>Procurement of Essential Medicines - Various</td>\n",
       "      <td>Regional Health Directorate - Ashanti Region/M...</td>\n",
       "      <td>ERNEST CHEMISTS LTD</td>\n",
       "      <td>9/30/2016</td>\n",
       "      <td>12/30/2016</td>\n",
       "      <td>487,490.00</td>\n",
       "    </tr>\n",
       "    <tr>\n",
       "      <th>29</th>\n",
       "      <td>Supply of Medicines and Consumables</td>\n",
       "      <td>Akuse Government Hospital/Ministry of Health</td>\n",
       "      <td>ERNEST CHEMIST LTD</td>\n",
       "      <td>6/15/2015</td>\n",
       "      <td>9/15/2015</td>\n",
       "      <td>209,927.71</td>\n",
       "    </tr>\n",
       "    <tr>\n",
       "      <th>40</th>\n",
       "      <td>Non-Medicine Consumable - Various</td>\n",
       "      <td>Ketu South Municipal Hospital/Ministry of Health</td>\n",
       "      <td>ERNEST CHEMIST</td>\n",
       "      <td>1/28/2015</td>\n",
       "      <td>6/28/2015</td>\n",
       "      <td>2,500.00</td>\n",
       "    </tr>\n",
       "    <tr>\n",
       "      <th>98</th>\n",
       "      <td>Supply of Essential Medicines - Various</td>\n",
       "      <td>Northern Regional Health Directorate/Ministry ...</td>\n",
       "      <td>ERNEST CHEMIST LIMITED</td>\n",
       "      <td>6/15/2016</td>\n",
       "      <td>5/30/2017</td>\n",
       "      <td>363,780.00</td>\n",
       "    </tr>\n",
       "  </tbody>\n",
       "</table>\n",
       "</div>"
      ],
      "text/plain": [
       "                              Tender Description  \\\n",
       "15  Procurement of Essential Medicines - Various   \n",
       "29           Supply of Medicines and Consumables   \n",
       "40             Non-Medicine Consumable - Various   \n",
       "98       Supply of Essential Medicines - Various   \n",
       "\n",
       "                             Awarding Agency/Ministry     Contract Awarded To  \\\n",
       "15  Regional Health Directorate - Ashanti Region/M...     ERNEST CHEMISTS LTD   \n",
       "29       Akuse Government Hospital/Ministry of Health      ERNEST CHEMIST LTD   \n",
       "40   Ketu South Municipal Hospital/Ministry of Health          ERNEST CHEMIST   \n",
       "98  Northern Regional Health Directorate/Ministry ...  ERNEST CHEMIST LIMITED   \n",
       "\n",
       "   Contract Signed on Estimated Contract Completion Date  Contract Award Price  \n",
       "15          9/30/2016                         12/30/2016            487,490.00  \n",
       "29          6/15/2015                          9/15/2015            209,927.71  \n",
       "40          1/28/2015                          6/28/2015              2,500.00  \n",
       "98          6/15/2016                          5/30/2017            363,780.00  "
      ]
     },
     "execution_count": 14,
     "metadata": {},
     "output_type": "execute_result"
    }
   ],
   "source": [
    "contracts[contracts['Contract Awarded To'].str.contains(\"ERNEST CHEMIST\")]"
   ]
  },
  {
   "cell_type": "markdown",
   "metadata": {},
   "source": [
    "From the above, we will realise that the company name \"Ernest Chemist\" in the \"Contract Awarded To\" column isn't consistent. It's in different virations. This will break our analysis as for example, if we wanted to see the unique companies that have been awared with contracts. \"ERNEST CHEMISTS LTD\", \"ERNEST CHEMIST LTD\", \"ERNEST CHEMIST\", \"ERNEST CHEMIST LIMITED\" will be seen as 4 different companies by the code.\n",
    "\n",
    "Hence, there is a strong need to make then consistent."
   ]
  },
  {
   "cell_type": "code",
   "execution_count": 15,
   "metadata": {
    "collapsed": true
   },
   "outputs": [],
   "source": [
    "contracts.loc[contracts['Contract Awarded To'].str.contains(\"ERNEST CHEMIST\"), 'Contract Awarded To'] ='ERNEST CHEMIST LTD'"
   ]
  },
  {
   "cell_type": "code",
   "execution_count": 16,
   "metadata": {
    "collapsed": false
   },
   "outputs": [
    {
     "data": {
      "text/html": [
       "<div>\n",
       "<table border=\"1\" class=\"dataframe\">\n",
       "  <thead>\n",
       "    <tr style=\"text-align: right;\">\n",
       "      <th></th>\n",
       "      <th>Tender Description</th>\n",
       "      <th>Awarding Agency/Ministry</th>\n",
       "      <th>Contract Awarded To</th>\n",
       "      <th>Contract Signed on</th>\n",
       "      <th>Estimated Contract Completion Date</th>\n",
       "      <th>Contract Award Price</th>\n",
       "    </tr>\n",
       "  </thead>\n",
       "  <tbody>\n",
       "    <tr>\n",
       "      <th>15</th>\n",
       "      <td>Procurement of Essential Medicines - Various</td>\n",
       "      <td>Regional Health Directorate - Ashanti Region/M...</td>\n",
       "      <td>ERNEST CHEMIST LTD</td>\n",
       "      <td>9/30/2016</td>\n",
       "      <td>12/30/2016</td>\n",
       "      <td>487,490.00</td>\n",
       "    </tr>\n",
       "    <tr>\n",
       "      <th>29</th>\n",
       "      <td>Supply of Medicines and Consumables</td>\n",
       "      <td>Akuse Government Hospital/Ministry of Health</td>\n",
       "      <td>ERNEST CHEMIST LTD</td>\n",
       "      <td>6/15/2015</td>\n",
       "      <td>9/15/2015</td>\n",
       "      <td>209,927.71</td>\n",
       "    </tr>\n",
       "    <tr>\n",
       "      <th>40</th>\n",
       "      <td>Non-Medicine Consumable - Various</td>\n",
       "      <td>Ketu South Municipal Hospital/Ministry of Health</td>\n",
       "      <td>ERNEST CHEMIST LTD</td>\n",
       "      <td>1/28/2015</td>\n",
       "      <td>6/28/2015</td>\n",
       "      <td>2,500.00</td>\n",
       "    </tr>\n",
       "    <tr>\n",
       "      <th>98</th>\n",
       "      <td>Supply of Essential Medicines - Various</td>\n",
       "      <td>Northern Regional Health Directorate/Ministry ...</td>\n",
       "      <td>ERNEST CHEMIST LTD</td>\n",
       "      <td>6/15/2016</td>\n",
       "      <td>5/30/2017</td>\n",
       "      <td>363,780.00</td>\n",
       "    </tr>\n",
       "  </tbody>\n",
       "</table>\n",
       "</div>"
      ],
      "text/plain": [
       "                              Tender Description  \\\n",
       "15  Procurement of Essential Medicines - Various   \n",
       "29           Supply of Medicines and Consumables   \n",
       "40             Non-Medicine Consumable - Various   \n",
       "98       Supply of Essential Medicines - Various   \n",
       "\n",
       "                             Awarding Agency/Ministry Contract Awarded To  \\\n",
       "15  Regional Health Directorate - Ashanti Region/M...  ERNEST CHEMIST LTD   \n",
       "29       Akuse Government Hospital/Ministry of Health  ERNEST CHEMIST LTD   \n",
       "40   Ketu South Municipal Hospital/Ministry of Health  ERNEST CHEMIST LTD   \n",
       "98  Northern Regional Health Directorate/Ministry ...  ERNEST CHEMIST LTD   \n",
       "\n",
       "   Contract Signed on Estimated Contract Completion Date  Contract Award Price  \n",
       "15          9/30/2016                         12/30/2016            487,490.00  \n",
       "29          6/15/2015                          9/15/2015            209,927.71  \n",
       "40          1/28/2015                          6/28/2015              2,500.00  \n",
       "98          6/15/2016                          5/30/2017            363,780.00  "
      ]
     },
     "execution_count": 16,
     "metadata": {},
     "output_type": "execute_result"
    }
   ],
   "source": [
    "contracts[contracts['Contract Awarded To'].str.contains(\"ERNEST CHEMIST\")]"
   ]
  },
  {
   "cell_type": "markdown",
   "metadata": {},
   "source": [
    "### Replace \"LIMITED\" with \"LTD\" - A way to check against redundancy"
   ]
  },
  {
   "cell_type": "code",
   "execution_count": 17,
   "metadata": {
    "collapsed": true
   },
   "outputs": [],
   "source": [
    "contracts.loc[contracts['Contract Awarded To'].str.contains(\"LIMITED\"), 'Contract Awarded To'] = contracts.loc[contracts['Contract Awarded To'].str.contains(\"LIMITED\"), 'Contract Awarded To'].str.replace('LIMITED', 'LTD')"
   ]
  },
  {
   "cell_type": "markdown",
   "metadata": {},
   "source": [
    "### Make a dictionary of companies that got two or more contracts"
   ]
  },
  {
   "cell_type": "code",
   "execution_count": 18,
   "metadata": {
    "collapsed": true
   },
   "outputs": [],
   "source": [
    "contract_frequency = {}\n",
    "for company in contracts['Contract Awarded To']:\n",
    "    if company and company not in contract_frequency:\n",
    "        contract_frequency[company] = 1\n",
    "    elif company and company in contract_frequency:\n",
    "        contract_frequency[company] += 1"
   ]
  },
  {
   "cell_type": "code",
   "execution_count": 19,
   "metadata": {
    "collapsed": true
   },
   "outputs": [],
   "source": [
    "more_than_once_contracts = {}\n",
    "for key, value in contract_frequency.items():\n",
    "    if value > 1:\n",
    "        more_than_once_contracts[key] = value"
   ]
  },
  {
   "cell_type": "code",
   "execution_count": 20,
   "metadata": {
    "collapsed": false
   },
   "outputs": [
    {
     "data": {
      "text/plain": [
       "{'ALPHA INNOVATIONS': 2,\n",
       " 'BELSHAW LTD': 2,\n",
       " 'ERNEST CHEMIST LTD': 4,\n",
       " 'FRANDAK AGENCY': 2,\n",
       " 'INTRAVENOUS INFUSIONS LTD': 2,\n",
       " 'PALB PHARMACEUTICALS LTD': 2,\n",
       " 'PHARMANOVA LTD': 3,\n",
       " 'SPINTEX CHEMIST LTD': 2,\n",
       " 'SUPRA PHARMA LTD': 2,\n",
       " 'TOBINCO PHARMACEUTICALS LTD': 2}"
      ]
     },
     "execution_count": 20,
     "metadata": {},
     "output_type": "execute_result"
    }
   ],
   "source": [
    "more_than_once_contracts"
   ]
  },
  {
   "cell_type": "markdown",
   "metadata": {},
   "source": [
    "### Make a DataFrame of the companies that got two or more contracts"
   ]
  },
  {
   "cell_type": "code",
   "execution_count": 21,
   "metadata": {
    "collapsed": true
   },
   "outputs": [],
   "source": [
    "more_than_once = []\n",
    "for key, value in more_than_once_contracts.items():\n",
    "    temp = [key.title(),value]\n",
    "    more_than_once.append(temp) "
   ]
  },
  {
   "cell_type": "code",
   "execution_count": 22,
   "metadata": {
    "collapsed": false
   },
   "outputs": [
    {
     "data": {
      "text/plain": [
       "[['Belshaw Ltd', 2],\n",
       " ['Alpha Innovations', 2],\n",
       " ['Supra Pharma Ltd', 2],\n",
       " ['Pharmanova Ltd', 3],\n",
       " ['Spintex Chemist Ltd', 2],\n",
       " ['Tobinco Pharmaceuticals Ltd', 2],\n",
       " ['Ernest Chemist Ltd', 4],\n",
       " ['Intravenous Infusions Ltd', 2],\n",
       " ['Palb Pharmaceuticals Ltd', 2],\n",
       " ['Frandak Agency', 2]]"
      ]
     },
     "execution_count": 22,
     "metadata": {},
     "output_type": "execute_result"
    }
   ],
   "source": [
    "more_than_once"
   ]
  },
  {
   "cell_type": "code",
   "execution_count": 23,
   "metadata": {
    "collapsed": true
   },
   "outputs": [],
   "source": [
    "fields = ['Company', 'Contract Frequency']\n",
    "more_than_once_freq = pd.DataFrame(more_than_once, columns=fields)"
   ]
  },
  {
   "cell_type": "markdown",
   "metadata": {},
   "source": [
    "### Final DataFrame"
   ]
  },
  {
   "cell_type": "code",
   "execution_count": 24,
   "metadata": {
    "collapsed": false
   },
   "outputs": [
    {
     "data": {
      "text/html": [
       "<div>\n",
       "<table border=\"1\" class=\"dataframe\">\n",
       "  <thead>\n",
       "    <tr style=\"text-align: right;\">\n",
       "      <th></th>\n",
       "      <th>Company</th>\n",
       "      <th>Contract Frequency</th>\n",
       "    </tr>\n",
       "  </thead>\n",
       "  <tbody>\n",
       "    <tr>\n",
       "      <th>0</th>\n",
       "      <td>Belshaw Ltd</td>\n",
       "      <td>2</td>\n",
       "    </tr>\n",
       "    <tr>\n",
       "      <th>1</th>\n",
       "      <td>Alpha Innovations</td>\n",
       "      <td>2</td>\n",
       "    </tr>\n",
       "    <tr>\n",
       "      <th>2</th>\n",
       "      <td>Supra Pharma Ltd</td>\n",
       "      <td>2</td>\n",
       "    </tr>\n",
       "    <tr>\n",
       "      <th>3</th>\n",
       "      <td>Pharmanova Ltd</td>\n",
       "      <td>3</td>\n",
       "    </tr>\n",
       "    <tr>\n",
       "      <th>4</th>\n",
       "      <td>Spintex Chemist Ltd</td>\n",
       "      <td>2</td>\n",
       "    </tr>\n",
       "    <tr>\n",
       "      <th>5</th>\n",
       "      <td>Tobinco Pharmaceuticals Ltd</td>\n",
       "      <td>2</td>\n",
       "    </tr>\n",
       "    <tr>\n",
       "      <th>6</th>\n",
       "      <td>Ernest Chemist Ltd</td>\n",
       "      <td>4</td>\n",
       "    </tr>\n",
       "    <tr>\n",
       "      <th>7</th>\n",
       "      <td>Intravenous Infusions Ltd</td>\n",
       "      <td>2</td>\n",
       "    </tr>\n",
       "    <tr>\n",
       "      <th>8</th>\n",
       "      <td>Palb Pharmaceuticals Ltd</td>\n",
       "      <td>2</td>\n",
       "    </tr>\n",
       "    <tr>\n",
       "      <th>9</th>\n",
       "      <td>Frandak Agency</td>\n",
       "      <td>2</td>\n",
       "    </tr>\n",
       "  </tbody>\n",
       "</table>\n",
       "</div>"
      ],
      "text/plain": [
       "                       Company  Contract Frequency\n",
       "0                  Belshaw Ltd                   2\n",
       "1            Alpha Innovations                   2\n",
       "2             Supra Pharma Ltd                   2\n",
       "3               Pharmanova Ltd                   3\n",
       "4          Spintex Chemist Ltd                   2\n",
       "5  Tobinco Pharmaceuticals Ltd                   2\n",
       "6           Ernest Chemist Ltd                   4\n",
       "7    Intravenous Infusions Ltd                   2\n",
       "8     Palb Pharmaceuticals Ltd                   2\n",
       "9               Frandak Agency                   2"
      ]
     },
     "execution_count": 24,
     "metadata": {},
     "output_type": "execute_result"
    }
   ],
   "source": [
    "more_than_once_freq.head(n=11)"
   ]
  },
  {
   "cell_type": "markdown",
   "metadata": {},
   "source": [
    "### What is the total amount of contracts awarded to the above companies?"
   ]
  },
  {
   "cell_type": "code",
   "execution_count": 25,
   "metadata": {
    "collapsed": true
   },
   "outputs": [],
   "source": [
    "tot_amt_more_than_once_contracts = {}\n",
    "for company in more_than_once_contracts:\n",
    "    total_contract_price = contracts[contracts['Contract Awarded To'] == company]['Contract Award Price'].sum()\n",
    "    tot_amt_more_than_once_contracts[company] = round(total_contract_price, 2)"
   ]
  },
  {
   "cell_type": "code",
   "execution_count": 26,
   "metadata": {
    "collapsed": false
   },
   "outputs": [
    {
     "data": {
      "text/plain": [
       "{'ALPHA INNOVATIONS': 1837140.0,\n",
       " 'BELSHAW LTD': 519210.0,\n",
       " 'ERNEST CHEMIST LTD': 1063697.71,\n",
       " 'FRANDAK AGENCY': 24834470.0,\n",
       " 'INTRAVENOUS INFUSIONS LTD': 1515425.0,\n",
       " 'PALB PHARMACEUTICALS LTD': 1213700.0,\n",
       " 'PHARMANOVA LTD': 2908822.07,\n",
       " 'SPINTEX CHEMIST LTD': 1361100.0,\n",
       " 'SUPRA PHARMA LTD': 279918.0,\n",
       " 'TOBINCO PHARMACEUTICALS LTD': 423500.0}"
      ]
     },
     "execution_count": 26,
     "metadata": {},
     "output_type": "execute_result"
    }
   ],
   "source": [
    "tot_amt_more_than_once_contracts"
   ]
  },
  {
   "cell_type": "markdown",
   "metadata": {},
   "source": [
    "### Make a DataFrame from the above dictionary"
   ]
  },
  {
   "cell_type": "code",
   "execution_count": 27,
   "metadata": {
    "collapsed": true
   },
   "outputs": [],
   "source": [
    "total_price_more_than_once = []\n",
    "for key, value in tot_amt_more_than_once_contracts.items():\n",
    "    temp = [key.title(),value]\n",
    "    total_price_more_than_once.append(temp)"
   ]
  },
  {
   "cell_type": "code",
   "execution_count": 28,
   "metadata": {
    "collapsed": false
   },
   "outputs": [
    {
     "data": {
      "text/plain": [
       "[['Belshaw Ltd', 519210.0],\n",
       " ['Alpha Innovations', 1837140.0],\n",
       " ['Supra Pharma Ltd', 279918.0],\n",
       " ['Pharmanova Ltd', 2908822.07],\n",
       " ['Spintex Chemist Ltd', 1361100.0],\n",
       " ['Tobinco Pharmaceuticals Ltd', 423500.0],\n",
       " ['Ernest Chemist Ltd', 1063697.71],\n",
       " ['Intravenous Infusions Ltd', 1515425.0],\n",
       " ['Palb Pharmaceuticals Ltd', 1213700.0],\n",
       " ['Frandak Agency', 24834470.0]]"
      ]
     },
     "execution_count": 28,
     "metadata": {},
     "output_type": "execute_result"
    }
   ],
   "source": [
    "total_price_more_than_once"
   ]
  },
  {
   "cell_type": "code",
   "execution_count": 29,
   "metadata": {
    "collapsed": true
   },
   "outputs": [],
   "source": [
    "fields = ['Company', 'Total Contract Price']\n",
    "more_once_contracts_amt_totals = pd.DataFrame(total_price_more_than_once, columns=fields)"
   ]
  },
  {
   "cell_type": "code",
   "execution_count": 30,
   "metadata": {
    "collapsed": false
   },
   "outputs": [
    {
     "data": {
      "text/html": [
       "<div>\n",
       "<table border=\"1\" class=\"dataframe\">\n",
       "  <thead>\n",
       "    <tr style=\"text-align: right;\">\n",
       "      <th></th>\n",
       "      <th>Company</th>\n",
       "      <th>Total Contract Price</th>\n",
       "    </tr>\n",
       "  </thead>\n",
       "  <tbody>\n",
       "    <tr>\n",
       "      <th>0</th>\n",
       "      <td>Belshaw Ltd</td>\n",
       "      <td>519,210.00</td>\n",
       "    </tr>\n",
       "    <tr>\n",
       "      <th>1</th>\n",
       "      <td>Alpha Innovations</td>\n",
       "      <td>1,837,140.00</td>\n",
       "    </tr>\n",
       "    <tr>\n",
       "      <th>2</th>\n",
       "      <td>Supra Pharma Ltd</td>\n",
       "      <td>279,918.00</td>\n",
       "    </tr>\n",
       "    <tr>\n",
       "      <th>3</th>\n",
       "      <td>Pharmanova Ltd</td>\n",
       "      <td>2,908,822.07</td>\n",
       "    </tr>\n",
       "    <tr>\n",
       "      <th>4</th>\n",
       "      <td>Spintex Chemist Ltd</td>\n",
       "      <td>1,361,100.00</td>\n",
       "    </tr>\n",
       "  </tbody>\n",
       "</table>\n",
       "</div>"
      ],
      "text/plain": [
       "               Company  Total Contract Price\n",
       "0          Belshaw Ltd            519,210.00\n",
       "1    Alpha Innovations          1,837,140.00\n",
       "2     Supra Pharma Ltd            279,918.00\n",
       "3       Pharmanova Ltd          2,908,822.07\n",
       "4  Spintex Chemist Ltd          1,361,100.00"
      ]
     },
     "execution_count": 30,
     "metadata": {},
     "output_type": "execute_result"
    }
   ],
   "source": [
    "more_once_contracts_amt_totals.head()"
   ]
  },
  {
   "cell_type": "markdown",
   "metadata": {},
   "source": [
    "### Consolidate the DataFrames "
   ]
  },
  {
   "cell_type": "code",
   "execution_count": 31,
   "metadata": {
    "collapsed": true
   },
   "outputs": [],
   "source": [
    "more_than_once_freq['Total Contract Price'] = more_once_contracts_amt_totals['Total Contract Price']"
   ]
  },
  {
   "cell_type": "code",
   "execution_count": 32,
   "metadata": {
    "collapsed": false
   },
   "outputs": [
    {
     "data": {
      "text/html": [
       "<div>\n",
       "<table border=\"1\" class=\"dataframe\">\n",
       "  <thead>\n",
       "    <tr style=\"text-align: right;\">\n",
       "      <th></th>\n",
       "      <th>Company</th>\n",
       "      <th>Contract Frequency</th>\n",
       "      <th>Total Contract Price</th>\n",
       "    </tr>\n",
       "  </thead>\n",
       "  <tbody>\n",
       "    <tr>\n",
       "      <th>0</th>\n",
       "      <td>Belshaw Ltd</td>\n",
       "      <td>2</td>\n",
       "      <td>519,210.00</td>\n",
       "    </tr>\n",
       "    <tr>\n",
       "      <th>1</th>\n",
       "      <td>Alpha Innovations</td>\n",
       "      <td>2</td>\n",
       "      <td>1,837,140.00</td>\n",
       "    </tr>\n",
       "    <tr>\n",
       "      <th>2</th>\n",
       "      <td>Supra Pharma Ltd</td>\n",
       "      <td>2</td>\n",
       "      <td>279,918.00</td>\n",
       "    </tr>\n",
       "    <tr>\n",
       "      <th>3</th>\n",
       "      <td>Pharmanova Ltd</td>\n",
       "      <td>3</td>\n",
       "      <td>2,908,822.07</td>\n",
       "    </tr>\n",
       "    <tr>\n",
       "      <th>4</th>\n",
       "      <td>Spintex Chemist Ltd</td>\n",
       "      <td>2</td>\n",
       "      <td>1,361,100.00</td>\n",
       "    </tr>\n",
       "    <tr>\n",
       "      <th>5</th>\n",
       "      <td>Tobinco Pharmaceuticals Ltd</td>\n",
       "      <td>2</td>\n",
       "      <td>423,500.00</td>\n",
       "    </tr>\n",
       "    <tr>\n",
       "      <th>6</th>\n",
       "      <td>Ernest Chemist Ltd</td>\n",
       "      <td>4</td>\n",
       "      <td>1,063,697.71</td>\n",
       "    </tr>\n",
       "    <tr>\n",
       "      <th>7</th>\n",
       "      <td>Intravenous Infusions Ltd</td>\n",
       "      <td>2</td>\n",
       "      <td>1,515,425.00</td>\n",
       "    </tr>\n",
       "    <tr>\n",
       "      <th>8</th>\n",
       "      <td>Palb Pharmaceuticals Ltd</td>\n",
       "      <td>2</td>\n",
       "      <td>1,213,700.00</td>\n",
       "    </tr>\n",
       "    <tr>\n",
       "      <th>9</th>\n",
       "      <td>Frandak Agency</td>\n",
       "      <td>2</td>\n",
       "      <td>24,834,470.00</td>\n",
       "    </tr>\n",
       "  </tbody>\n",
       "</table>\n",
       "</div>"
      ],
      "text/plain": [
       "                       Company  Contract Frequency  Total Contract Price\n",
       "0                  Belshaw Ltd                   2            519,210.00\n",
       "1            Alpha Innovations                   2          1,837,140.00\n",
       "2             Supra Pharma Ltd                   2            279,918.00\n",
       "3               Pharmanova Ltd                   3          2,908,822.07\n",
       "4          Spintex Chemist Ltd                   2          1,361,100.00\n",
       "5  Tobinco Pharmaceuticals Ltd                   2            423,500.00\n",
       "6           Ernest Chemist Ltd                   4          1,063,697.71\n",
       "7    Intravenous Infusions Ltd                   2          1,515,425.00\n",
       "8     Palb Pharmaceuticals Ltd                   2          1,213,700.00\n",
       "9               Frandak Agency                   2         24,834,470.00"
      ]
     },
     "execution_count": 32,
     "metadata": {},
     "output_type": "execute_result"
    }
   ],
   "source": [
    "more_than_once_freq.head(n=11)"
   ]
  },
  {
   "cell_type": "markdown",
   "metadata": {},
   "source": [
    "### CAUTION:\n",
    "Dataset provided during the hackathon had over 800 missing rows. Hence, the analysis in this small project is for demonstration purposes. It will be very misleading to use the analysis here in any way part from demonstration."
   ]
  },
  {
   "cell_type": "markdown",
   "metadata": {},
   "source": [
    "### Quick visualization of the above DataFrame"
   ]
  },
  {
   "cell_type": "code",
   "execution_count": 33,
   "metadata": {
    "collapsed": true
   },
   "outputs": [],
   "source": [
    "import matplotlib.pyplot as plt\n",
    "import numpy as np\n",
    "%matplotlib inline"
   ]
  },
  {
   "cell_type": "code",
   "execution_count": 34,
   "metadata": {
    "collapsed": true
   },
   "outputs": [],
   "source": [
    "company = more_than_once_freq.pop('Company')\n",
    "more_than_once_freq.index = company"
   ]
  },
  {
   "cell_type": "code",
   "execution_count": 36,
   "metadata": {
    "collapsed": false
   },
   "outputs": [
    {
     "data": {
      "image/png": "[encoded data removed]",
      "text/plain": [
       "<matplotlib.figure.Figure at 0x1f2585281d0>"
      ]
     },
     "metadata": {},
     "output_type": "display_data"
    }
   ],
   "source": [
    "from matplotlib.ticker import FormatStrFormatter\n",
    "fig, ax = plt.subplots()\n",
    "ax.yaxis.set_major_formatter(FormatStrFormatter('%.2f'))\n",
    "\n",
    "more_than_once_freq['Total Contract Price'].plot(kind='barh', figsize=(14,6), sort_columns=True, fontsize=12)\n",
    "plt.xlabel(\"Total Amount in GH¢\")\n",
    "plt.ylabel(\"Companies\")\n",
    "plt.title(\"Companies that were awarded Contracts more than once\\nThe longer the bar, the more money received\")\n",
    "plt.show()"
   ]
  }
 ],
 "metadata": {
  "kernelspec": {
   "display_name": "Python 3",
   "language": "python",
   "name": "python3"
  },
  "language_info": {
   "codemirror_mode": {
    "name": "ipython",
    "version": 3
   },
   "file_extension": ".py",
   "mimetype": "text/x-python",
   "name": "python",
   "nbconvert_exporter": "python",
   "pygments_lexer": "ipython3",
   "version": "3.6.0"
  }
 },
 "nbformat": 4,
 "nbformat_minor": 2
}
